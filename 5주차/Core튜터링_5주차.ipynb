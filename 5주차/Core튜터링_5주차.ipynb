{
  "nbformat": 4,
  "nbformat_minor": 0,
  "metadata": {
    "colab": {
      "name": "Core튜터링_5주차.ipynb",
      "provenance": []
    },
    "kernelspec": {
      "name": "python3",
      "display_name": "Python 3"
    }
  },
  "cells": [
    {
      "cell_type": "markdown",
      "metadata": {
        "id": "PadU0UX6MJK7"
      },
      "source": [
        "변수 선언"
      ]
    },
    {
      "cell_type": "code",
      "metadata": {
        "id": "5D2cPru3M41c"
      },
      "source": [
        "# 벽은 #로, 빈 공간은 .으로, 캐릭터는 #로 둔다.\n",
        "Block = '#'\n",
        "Void_area = '.'\n",
        "Character = 'B'\n",
        "\n",
        "# 게임판을 새롭게 정의\n",
        "game_board = []\n",
        "row = 0    # 행의 길이\n",
        "column = 0 # 열의 길이\n",
        "\n",
        "# 캐릭터 자리 새롭게 정의\n",
        "c_x = 0       #캐릭터가 처음 시작하는 자리의 x좌표\n",
        "c_y = 0       #캐릭터가 처음 시작하는 자리의 y좌표"
      ],
      "execution_count": 21,
      "outputs": []
    },
    {
      "cell_type": "markdown",
      "metadata": {
        "id": "1J2wQ_y0Ketl"
      },
      "source": [
        "함수 정의"
      ]
    },
    {
      "cell_type": "code",
      "metadata": {
        "id": "d9DAkgmbKy3c"
      },
      "source": [
        "#이중리스트 초기화 함수\n",
        "#함수 사용 예시 : game_board = default_game_board(5, 5)\n",
        "\n",
        "def default_game_board(row, column, c_y, c_x):\n",
        "  game_board = []\n",
        "\n",
        "  #빈 공간을 넣는 부분\n",
        "  for i in range(0, row, 1):  # 게임판의 행\n",
        "    a = []\n",
        "    for j in range(0, column, 1):  #게임판의 열\n",
        "      a.append('.')\n",
        "    game_board.append(a)\n",
        "\n",
        "  #캐릭터의 자리를 정하는 부분\n",
        "  game_board[c_y][c_x] = 'B'\n",
        "\n",
        "  #벽을 넣는 부분\n",
        "  #(1) 맨 위 가로줄 (0,0) ~ (0,column)\n",
        "  #(2) 맨 아래 가로줄 (row - 1 , 0) ~ (row - 1, column - 1)\n",
        "  for i in range(0, column, 1):\n",
        "    game_board[0][i] = '#'    #(1)\n",
        "    game_board[row - 1][i] = '#'    #(2)\n",
        "  \n",
        "  #(3) 왼쪽 세로줄 (0,0), (1,0), (2,0) - (0,0) ~ (row - 1, 0)\n",
        "  #(4) 오른쪽 세로줄 \n",
        "  for i in range(0, row, 1):\n",
        "    game_board[i][0] = '#'\n",
        "    game_board[i][column - 1] = '#'\n",
        "\n",
        "  print_doublelist(game_board)\n",
        "\n",
        "  return game_board"
      ],
      "execution_count": 29,
      "outputs": []
    },
    {
      "cell_type": "code",
      "metadata": {
        "id": "8x_AwE9kKTog"
      },
      "source": [
        "#이중리스트 함수\n",
        "\n",
        "def print_game_board(game_board):\n",
        "  print(\"이중 리스트를 출력합니다.\")\n",
        "  for i in range(0, len(game_board), 1):\n",
        "    for j in range(0, len(game_board[1]), 1):\n",
        "      print(game_board[i][j], end = \" \")\n",
        "    print()\n",
        "  print(\"이중 리스트의 출력이 끝났습니다.\")\n",
        "  print()"
      ],
      "execution_count": 32,
      "outputs": []
    },
    {
      "cell_type": "code",
      "metadata": {
        "id": "DJZ5R3aUK4YK"
      },
      "source": [
        "#테두리에 닿았을 때 함수\n",
        "\n",
        "def check(dir, y, x):\n",
        "  if x < 0 or x >= 5 or y < 0 or y >= 5:\n",
        "    #다시 고쳐주고\n",
        "    if dir == '왼쪽':\n",
        "      x = 0\n",
        "    elif dir == '오른쪽':\n",
        "      x = 4\n",
        "    elif dir == '위쪽':\n",
        "      y = 0\n",
        "    elif dir == '아래쪽':\n",
        "      y = 4\n",
        "    #사용자에게 알려준다\n",
        "    print(\"더 이상\", dir,\"으로 갈 수 없습니다.\")\n",
        "\n",
        "  return y, x"
      ],
      "execution_count": null,
      "outputs": []
    },
    {
      "cell_type": "markdown",
      "metadata": {
        "id": "RFSWB7OTNpMB"
      },
      "source": [
        "함수"
      ]
    },
    {
      "cell_type": "code",
      "metadata": {
        "id": "aZsj82viMjd4",
        "outputId": "6684b172-0c9e-47a7-ef78-4cfd56d7d91a",
        "colab": {
          "base_uri": "https://localhost:8080/"
        }
      },
      "source": [
        "lists = [[0,0,0,0,0], \n",
        "         [0,0,0,0,0],\n",
        "         [0,0,1,0,0],\n",
        "         [0,0,0,0,0],\n",
        "         [0,0,0,0,0]]\n",
        "\n",
        "print(lists)"
      ],
      "execution_count": null,
      "outputs": [
        {
          "output_type": "stream",
          "text": [
            "[[0, 0, 0, 0, 0], [0, 0, 0, 0, 0], [0, 0, 1, 0, 0], [0, 0, 0, 0, 0], [0, 0, 0, 0, 0]]\n"
          ],
          "name": "stdout"
        }
      ]
    },
    {
      "cell_type": "code",
      "metadata": {
        "id": "Xb_tC2gGNq71",
        "outputId": "b1de81dc-cd58-471e-8c44-07ee6d3ddae9",
        "colab": {
          "base_uri": "https://localhost:8080/"
        }
      },
      "source": [
        "y = 2\n",
        "x = 2\n",
        "\n",
        "lists = default_doublelist(lists)\n",
        "\n",
        "dir = input('방향을 입력하세요: ')\n",
        "\n",
        "lists[y][x] = 0\n",
        "\n",
        "if dir == \"왼쪽\":\n",
        "  x = x - 1\n",
        "\n",
        "elif dir == \"오른쪽\":\n",
        "  x = x + 1\n",
        "\n",
        "elif dir == \"위쪽\":\n",
        "  y = y - 1\n",
        "\n",
        "elif dir == \"아래쪽\":\n",
        "  y = y + 1\n",
        "\n",
        "print(y, x)\n",
        "\n",
        "lists[y][x] = 1\n",
        "\n",
        "print_doublelist(lists)"
      ],
      "execution_count": null,
      "outputs": [
        {
          "output_type": "stream",
          "text": [
            "이중 리스트를 출력합니다.\n",
            "0 0 0 0 0 \n",
            "0 0 0 0 0 \n",
            "0 0 1 0 0 \n",
            "0 0 0 0 0 \n",
            "0 0 0 0 0 \n",
            "이중 리스트의 출력이 끝났습니다.\n",
            "\n",
            "방향을 입력하세요: 오른쪽\n",
            "2 3\n",
            "이중 리스트를 출력합니다.\n",
            "0 0 0 0 0 \n",
            "0 0 0 0 0 \n",
            "0 0 0 1 0 \n",
            "0 0 0 0 0 \n",
            "0 0 0 0 0 \n",
            "이중 리스트의 출력이 끝났습니다.\n",
            "\n"
          ],
          "name": "stdout"
        }
      ]
    },
    {
      "cell_type": "code",
      "metadata": {
        "id": "FwFyCBgcOR8F",
        "outputId": "b123d773-79ce-4425-d418-b521b787b241",
        "colab": {
          "base_uri": "https://localhost:8080/"
        }
      },
      "source": [
        "#테두리에 닿았다면\n",
        "\n",
        "y = 2\n",
        "x = 2\n",
        "\n",
        "while True:\n",
        "  dir = input(\"방향을 입력하세요(그만 하시고 싶으시면 \\\"그만\\\"이라고 입력: \")\n",
        "  \n",
        "  lists[y][x] = 0\n",
        "\n",
        "  if dir == \"왼쪽\":\n",
        "    x = x - 1\n",
        "    #테두리에 닿았다면\n",
        "    y, x = check(dir, y, x)\n",
        "    #if x < 0:\n",
        "      #x = 0\n",
        "      #print('더 이상 왼쪽으로 갈 수 없습니다.')\n",
        "\n",
        "  elif dir == \"오른쪽\":\n",
        "    x = x + 1\n",
        "    #테두리에 닿았다면\n",
        "    y, x = check(dir, y, x)\n",
        "    #if x >= 5:\n",
        "      #x = 4\n",
        "      #print(\"더 이상 오른쪽으로 갈 수 없습니다.\")\n",
        "\n",
        "  elif dir == \"위쪽\":\n",
        "    y = y - 1\n",
        "    #테두리에 닿았다면\n",
        "    y, x = check(dir, y, x)\n",
        "    #if y < 0:\n",
        "      #y = 0\n",
        "      #print('더 이상 위쪽으로 갈 수 없습니다.')\n",
        "\n",
        "  elif dir == \"아래쪽\":\n",
        "    y = y + 1\n",
        "    #테두리에 닿았다면\n",
        "    y, x = check(dir, y, x)\n",
        "    #if y >= 5:\n",
        "      #y = 4\n",
        "      #print('더 이상 아래쪽으로 갈 수 없습니다.')\n",
        "\n",
        "  elif dir == \"그만\":\n",
        "    break\n",
        "    \n",
        "  print(y, x)\n",
        "\n",
        "  lists[y][x] = 1\n",
        "\n",
        "  print_doublelist(lists)"
      ],
      "execution_count": null,
      "outputs": [
        {
          "output_type": "stream",
          "text": [
            "방향을 입력하세요(그만 하시고 싶으시면 \"그만\"이라고 입력: 오른쪽\n",
            "2 3\n",
            "이중 리스트를 출력합니다.\n",
            "0 0 0 0 0 \n",
            "0 0 0 0 0 \n",
            "0 0 0 1 0 \n",
            "0 0 0 0 0 \n",
            "0 0 0 0 0 \n",
            "이중 리스트의 출력이 끝났습니다.\n",
            "\n",
            "방향을 입력하세요(그만 하시고 싶으시면 \"그만\"이라고 입력: 오른쪽\n",
            "2 4\n",
            "이중 리스트를 출력합니다.\n",
            "0 0 0 0 0 \n",
            "0 0 0 0 0 \n",
            "0 0 0 0 1 \n",
            "0 0 0 0 0 \n",
            "0 0 0 0 0 \n",
            "이중 리스트의 출력이 끝났습니다.\n",
            "\n",
            "방향을 입력하세요(그만 하시고 싶으시면 \"그만\"이라고 입력: 오른쪽\n",
            "더 이상 오른쪽 으로 갈 수 없습니다.\n",
            "2 4\n",
            "이중 리스트를 출력합니다.\n",
            "0 0 0 0 0 \n",
            "0 0 0 0 0 \n",
            "0 0 0 0 1 \n",
            "0 0 0 0 0 \n",
            "0 0 0 0 0 \n",
            "이중 리스트의 출력이 끝났습니다.\n",
            "\n",
            "방향을 입력하세요(그만 하시고 싶으시면 \"그만\"이라고 입력: 그만\n"
          ],
          "name": "stdout"
        }
      ]
    },
    {
      "cell_type": "code",
      "metadata": {
        "id": "IBC22Z30dUoI"
      },
      "source": [
        "# 벽을 만나기 전까지 한 방향으로 계속 캐릭터를 움직이는 함수\n",
        "# 재귀함수 이용\n",
        "# 인자로 게임판, 캐릭터의 y좌표, 캐릭터의 x좌표, 움직일 방향 받기\n",
        "def move_not_block(game_board, c_y, c_x, dir):\n",
        "  \n",
        "  # 재귀함수를 잘 알기 위해 print 하기\n",
        "  print_game_board(game_board)\n",
        "  print(c_y, c_x, dir)\n",
        "\n",
        "  #함수 안에서만 쓰이는 y, x\n",
        "  y = c_y\n",
        "  x = c_x\n",
        "\n",
        "  # 먼저 1칸 이동\n",
        "  if dir == '왼쪽':\n",
        "    x = x - 1\n",
        "  elif dir == '오른쪽':\n",
        "    x = x + 1\n",
        "  elif dir == '위쪽':\n",
        "    y = y - 1\n",
        "  elif dir == '아래쪽':\n",
        "    y = y + 1\n",
        "\n",
        "  #(y,x) : 1칸 이동한 좌표\n",
        "  #(c_y, c_x) : 이동 전 좌표\n",
        "\n",
        "  #이동한 자리가 벽인지 확인\n",
        "  if game_board[y][x] != '#':   #이동한 자리가 벽이 아닐 때\n",
        "\n",
        "    #이동하기 전 자리는 빈공간('.')으로 두고\n",
        "    #이동 후 자리에 캐릭터('B')를 표시\n",
        "    game_board[c_y][c_x] = '.'\n",
        "    game_board[y][x] = 'B'\n",
        "    return move_not_block(game_board, y, x, dir)\n",
        "\n",
        "  else:    #이동한 자리가 벽일 때\n",
        "    return game_board\n"
      ],
      "execution_count": 35,
      "outputs": []
    },
    {
      "cell_type": "markdown",
      "metadata": {
        "id": "8AWjbFUCTqU3"
      },
      "source": [
        "함수 테스트"
      ]
    },
    {
      "cell_type": "code",
      "metadata": {
        "id": "FSMJfMvbOs6r",
        "outputId": "600c6e90-2008-4bdc-d9a9-ee2c89a24682",
        "colab": {
          "base_uri": "https://localhost:8080/"
        }
      },
      "source": [
        "game_board = default_game_board(10,9,3,7)"
      ],
      "execution_count": 37,
      "outputs": [
        {
          "output_type": "stream",
          "text": [
            "이중 리스트를 출력합니다.\n",
            "# # # # # # # # # \n",
            "# . . . . . . . # \n",
            "# . . . . . . . # \n",
            "# . . . . . . B # \n",
            "# . . . . . . . # \n",
            "# . . . . . . . # \n",
            "# . . . . . . . # \n",
            "# . . . . . . . # \n",
            "# . . . . . . . # \n",
            "# # # # # # # # # \n",
            "이중 리스트의 출력이 끝났습니다.\n",
            "\n"
          ],
          "name": "stdout"
        }
      ]
    },
    {
      "cell_type": "code",
      "metadata": {
        "id": "REdYnacBX1tx",
        "outputId": "3135d009-9104-4514-8b65-b4cfe834db62",
        "colab": {
          "base_uri": "https://localhost:8080/"
        }
      },
      "source": [
        "game_board = move_not_block(game_board, 3, 7, '왼쪽')\n",
        "print('최종 결과')\n",
        "print_game_board(game_board)"
      ],
      "execution_count": 38,
      "outputs": [
        {
          "output_type": "stream",
          "text": [
            "이중 리스트를 출력합니다.\n",
            "# # # # # # # # # \n",
            "# . . . . . . . # \n",
            "# . . . . . . . # \n",
            "# . . . . . . B # \n",
            "# . . . . . . . # \n",
            "# . . . . . . . # \n",
            "# . . . . . . . # \n",
            "# . . . . . . . # \n",
            "# . . . . . . . # \n",
            "# # # # # # # # # \n",
            "이중 리스트의 출력이 끝났습니다.\n",
            "\n",
            "3 7 왼쪽\n",
            "이중 리스트를 출력합니다.\n",
            "# # # # # # # # # \n",
            "# . . . . . . . # \n",
            "# . . . . . . . # \n",
            "# . . . . . B . # \n",
            "# . . . . . . . # \n",
            "# . . . . . . . # \n",
            "# . . . . . . . # \n",
            "# . . . . . . . # \n",
            "# . . . . . . . # \n",
            "# # # # # # # # # \n",
            "이중 리스트의 출력이 끝났습니다.\n",
            "\n",
            "3 6 왼쪽\n",
            "이중 리스트를 출력합니다.\n",
            "# # # # # # # # # \n",
            "# . . . . . . . # \n",
            "# . . . . . . . # \n",
            "# . . . . B . . # \n",
            "# . . . . . . . # \n",
            "# . . . . . . . # \n",
            "# . . . . . . . # \n",
            "# . . . . . . . # \n",
            "# . . . . . . . # \n",
            "# # # # # # # # # \n",
            "이중 리스트의 출력이 끝났습니다.\n",
            "\n",
            "3 5 왼쪽\n",
            "이중 리스트를 출력합니다.\n",
            "# # # # # # # # # \n",
            "# . . . . . . . # \n",
            "# . . . . . . . # \n",
            "# . . . B . . . # \n",
            "# . . . . . . . # \n",
            "# . . . . . . . # \n",
            "# . . . . . . . # \n",
            "# . . . . . . . # \n",
            "# . . . . . . . # \n",
            "# # # # # # # # # \n",
            "이중 리스트의 출력이 끝났습니다.\n",
            "\n",
            "3 4 왼쪽\n",
            "이중 리스트를 출력합니다.\n",
            "# # # # # # # # # \n",
            "# . . . . . . . # \n",
            "# . . . . . . . # \n",
            "# . . B . . . . # \n",
            "# . . . . . . . # \n",
            "# . . . . . . . # \n",
            "# . . . . . . . # \n",
            "# . . . . . . . # \n",
            "# . . . . . . . # \n",
            "# # # # # # # # # \n",
            "이중 리스트의 출력이 끝났습니다.\n",
            "\n",
            "3 3 왼쪽\n",
            "이중 리스트를 출력합니다.\n",
            "# # # # # # # # # \n",
            "# . . . . . . . # \n",
            "# . . . . . . . # \n",
            "# . B . . . . . # \n",
            "# . . . . . . . # \n",
            "# . . . . . . . # \n",
            "# . . . . . . . # \n",
            "# . . . . . . . # \n",
            "# . . . . . . . # \n",
            "# # # # # # # # # \n",
            "이중 리스트의 출력이 끝났습니다.\n",
            "\n",
            "3 2 왼쪽\n",
            "이중 리스트를 출력합니다.\n",
            "# # # # # # # # # \n",
            "# . . . . . . . # \n",
            "# . . . . . . . # \n",
            "# B . . . . . . # \n",
            "# . . . . . . . # \n",
            "# . . . . . . . # \n",
            "# . . . . . . . # \n",
            "# . . . . . . . # \n",
            "# . . . . . . . # \n",
            "# # # # # # # # # \n",
            "이중 리스트의 출력이 끝났습니다.\n",
            "\n",
            "3 1 왼쪽\n",
            "최종 결과\n",
            "이중 리스트를 출력합니다.\n",
            "# # # # # # # # # \n",
            "# . . . . . . . # \n",
            "# . . . . . . . # \n",
            "# B . . . . . . # \n",
            "# . . . . . . . # \n",
            "# . . . . . . . # \n",
            "# . . . . . . . # \n",
            "# . . . . . . . # \n",
            "# . . . . . . . # \n",
            "# # # # # # # # # \n",
            "이중 리스트의 출력이 끝났습니다.\n",
            "\n"
          ],
          "name": "stdout"
        }
      ]
    }
  ]
}