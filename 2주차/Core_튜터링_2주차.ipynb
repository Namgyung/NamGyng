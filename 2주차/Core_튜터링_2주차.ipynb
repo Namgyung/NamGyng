{
  "nbformat": 4,
  "nbformat_minor": 0,
  "metadata": {
    "colab": {
      "name": "Core 튜터링 2주차.ipynb",
      "provenance": []
    },
    "kernelspec": {
      "name": "python3",
      "display_name": "Python 3"
    }
  },
  "cells": [
    {
      "cell_type": "markdown",
      "metadata": {
        "id": "dkxqzGE9BbWQ"
      },
      "source": [
        "백준 8393 합"
      ]
    },
    {
      "cell_type": "code",
      "metadata": {
        "id": "X85Imaaj-vuW",
        "outputId": "af726d97-6d84-4579-b329-86f81745bb2a",
        "colab": {
          "base_uri": "https://localhost:8080/",
          "height": 35
        }
      },
      "source": [
        "a = int(input('정수를 입력하세요: '))"
      ],
      "execution_count": 1,
      "outputs": [
        {
          "output_type": "stream",
          "text": [
            "정수를 입력하세요: 3\n"
          ],
          "name": "stdout"
        }
      ]
    },
    {
      "cell_type": "code",
      "metadata": {
        "id": "BFg1Nl0wCGMg",
        "outputId": "f0e2b80a-d21d-446e-9ffa-bce50daee574",
        "colab": {
          "base_uri": "https://localhost:8080/",
          "height": 35
        }
      },
      "source": [
        "print(a)"
      ],
      "execution_count": 2,
      "outputs": [
        {
          "output_type": "stream",
          "text": [
            "3\n"
          ],
          "name": "stdout"
        }
      ]
    },
    {
      "cell_type": "code",
      "metadata": {
        "id": "JufH37x6CNdS",
        "outputId": "5c7490c4-64c9-4136-9457-140e5879f776",
        "colab": {
          "base_uri": "https://localhost:8080/",
          "height": 35
        }
      },
      "source": [
        "type(a)"
      ],
      "execution_count": 3,
      "outputs": [
        {
          "output_type": "execute_result",
          "data": {
            "text/plain": [
              "int"
            ]
          },
          "metadata": {
            "tags": []
          },
          "execution_count": 3
        }
      ]
    },
    {
      "cell_type": "code",
      "metadata": {
        "id": "e76C7up4COUV"
      },
      "source": [
        "# 1부터 n까지 합을 출력\n",
        "# for 문 사용하기"
      ],
      "execution_count": 9,
      "outputs": []
    },
    {
      "cell_type": "code",
      "metadata": {
        "id": "xahNTcK5CSbp",
        "outputId": "aa440e7e-4b86-4034-e208-de7686bffb70",
        "colab": {
          "base_uri": "https://localhost:8080/",
          "height": 53
        }
      },
      "source": [
        "a = int(input())\n",
        "sum = 0\n",
        "for i in range(0, a+1):\n",
        "  sum += i\n",
        "\n",
        "print(sum)"
      ],
      "execution_count": 7,
      "outputs": [
        {
          "output_type": "stream",
          "text": [
            "3\n",
            "6\n"
          ],
          "name": "stdout"
        }
      ]
    },
    {
      "cell_type": "code",
      "metadata": {
        "id": "TkNldodkClS8"
      },
      "source": [
        "# 다른방법으로 풀어보기\n",
        "# n * (n+1) /2"
      ],
      "execution_count": 10,
      "outputs": []
    },
    {
      "cell_type": "code",
      "metadata": {
        "id": "AQXTl_w5FBzE",
        "outputId": "55202ed9-0066-4594-c2f3-4aca1954526d",
        "colab": {
          "base_uri": "https://localhost:8080/",
          "height": 53
        }
      },
      "source": [
        "a = int(input())\n",
        "sum = a * (a+1) / 2\n",
        "print(int(sum)) # 강제 형변환 : 컴퓨터가 임의로 타입을 바꿨을 때, 코더가 원하는 타입으로 바꾸는 것"
      ],
      "execution_count": 13,
      "outputs": [
        {
          "output_type": "stream",
          "text": [
            "3\n",
            "6\n"
          ],
          "name": "stdout"
        }
      ]
    },
    {
      "cell_type": "markdown",
      "metadata": {
        "id": "jq29O18uGRfv"
      },
      "source": [
        "백준 문제 1000"
      ]
    },
    {
      "cell_type": "code",
      "metadata": {
        "id": "KufKfBNgILyG"
      },
      "source": [
        "# int().split('구분자'): 한 줄에 여러 개의 정수가 있을 때 리스트로 받는다.\n",
        "# map(자료형, 데이터)"
      ],
      "execution_count": 27,
      "outputs": []
    },
    {
      "cell_type": "code",
      "metadata": {
        "id": "w3V49OL0Fhby",
        "outputId": "b5418139-f755-405e-fb13-d21c71b0f19f",
        "colab": {
          "base_uri": "https://localhost:8080/",
          "height": 53
        }
      },
      "source": [
        "l = [int(x) for x in input().split(' ')]\n",
        "\n",
        "sum = 0\n",
        "for x in l:\n",
        "  sum += x\n",
        "\n",
        "print(sum)"
      ],
      "execution_count": 32,
      "outputs": [
        {
          "output_type": "stream",
          "text": [
            "1 2\n",
            "3\n"
          ],
          "name": "stdout"
        }
      ]
    },
    {
      "cell_type": "markdown",
      "metadata": {
        "id": "puapHv24PPsj"
      },
      "source": [
        "백준 1330번"
      ]
    },
    {
      "cell_type": "code",
      "metadata": {
        "id": "mio6KVJsJcP-",
        "outputId": "2cb251f9-9e85-4b65-acfa-3494e798d0d9",
        "colab": {
          "base_uri": "https://localhost:8080/",
          "height": 53
        }
      },
      "source": [
        "a, b = map(int, input().split(' '))\n",
        "\n",
        "if a > b :\n",
        "  print(\">\")\n",
        "elif a < b :\n",
        "  print(\"<\")\n",
        "else:\n",
        "  print(\"==\")"
      ],
      "execution_count": 35,
      "outputs": [
        {
          "output_type": "stream",
          "text": [
            "1 2\n",
            "<\n"
          ],
          "name": "stdout"
        }
      ]
    },
    {
      "cell_type": "markdown",
      "metadata": {
        "id": "a_NKqIuaRH1B"
      },
      "source": [
        "백준 15953번 = 카카오 페스티벌 1번문제"
      ]
    },
    {
      "cell_type": "code",
      "metadata": {
        "id": "054Blq_gP-EN",
        "outputId": "7891dd2a-4a79-4a52-9617-abccd73ecaca",
        "colab": {
          "base_uri": "https://localhost:8080/",
          "height": 251
        }
      },
      "source": [
        "T = int(input())\n",
        "for i in range(0, T, 1):\n",
        "  a, b = map(int, input().split(' '))\n",
        "\n",
        "  sum = 0\n",
        "  if a == 0 :\n",
        "    sum += 0\n",
        "  elif a == 1:\n",
        "    sum += 500\n",
        "  elif a < 4 :\n",
        "    sum += 300\n",
        "  elif a < 7 :\n",
        "    sum += 200\n",
        "  elif a < 11 :\n",
        "    sum += 50\n",
        "  elif a < 16 :\n",
        "    sum += 30\n",
        "  elif a < 22 :\n",
        "    sum += 10\n",
        "  else :\n",
        "    sum += 0\n",
        "  \n",
        "  if b == 0 :\n",
        "    sum += 0\n",
        "  elif b == 1 :\n",
        "    sum += 512\n",
        "  elif b < 4 :\n",
        "    sum += 256\n",
        "  elif b < 8 :\n",
        "    sum += 128\n",
        "  elif b < 16 :\n",
        "    sum += 64\n",
        "  elif b < 32 :\n",
        "    sum += 32\n",
        "  else :\n",
        "    sum += 0\n",
        "  \n",
        "  print(sum * 10000)"
      ],
      "execution_count": 39,
      "outputs": [
        {
          "output_type": "stream",
          "text": [
            "6\n",
            "8 4\n",
            "1780000\n",
            "13 19\n",
            "620000\n",
            "8 10\n",
            "1140000\n",
            "18 18\n",
            "420000\n",
            "8 25\n",
            "820000\n",
            "13 16\n",
            "620000\n"
          ],
          "name": "stdout"
        }
      ]
    },
    {
      "cell_type": "markdown",
      "metadata": {
        "id": "CYFEEUeHWjsr"
      },
      "source": [
        "While문 사용해보기\n",
        "* 백준 10952번"
      ]
    },
    {
      "cell_type": "code",
      "metadata": {
        "id": "n7dqFVOrRSw4",
        "outputId": "f174d112-eb2b-44a0-8529-45db7034757c",
        "colab": {
          "base_uri": "https://localhost:8080/",
          "height": 143
        }
      },
      "source": [
        "while True:\n",
        "  a, b = map(int, input().split(' '))\n",
        "  if a != 0 and b != 0 :\n",
        "    print( a + b )\n",
        "  else :\n",
        "    break"
      ],
      "execution_count": 41,
      "outputs": [
        {
          "output_type": "stream",
          "text": [
            "1 1\n",
            "2\n",
            "2 3\n",
            "5\n",
            "3 4\n",
            "7\n",
            "0 0\n"
          ],
          "name": "stdout"
        }
      ]
    },
    {
      "cell_type": "code",
      "metadata": {
        "id": "lKwPU27zYEQn"
      },
      "source": [
        ""
      ],
      "execution_count": null,
      "outputs": []
    }
  ]
}