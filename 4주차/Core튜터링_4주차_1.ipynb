{
  "nbformat": 4,
  "nbformat_minor": 0,
  "metadata": {
    "colab": {
      "name": "Core튜터링 4주차-1.ipynb",
      "provenance": []
    },
    "kernelspec": {
      "name": "python3",
      "display_name": "Python 3"
    }
  },
  "cells": [
    {
      "cell_type": "code",
      "metadata": {
        "id": "mbgyVYJfEnlp",
        "outputId": "16ea5448-2d1f-406e-9229-8f4cda4fa9e9",
        "colab": {
          "base_uri": "https://localhost:8080/",
          "height": 71
        }
      },
      "source": [
        "lists = []\n",
        "for i in range(0, 5, 1):\n",
        "  a = []\n",
        "  for j in range(0, 5, 1):\n",
        "    a.append(0)\n",
        "  lists.append(a)\n",
        "\n",
        "print(lists)\n",
        "\n",
        "lists[2][2] = 1\n",
        "print(lists)\n",
        "\n",
        "lists[4][4] = 1\n",
        "print(lists)"
      ],
      "execution_count": 4,
      "outputs": [
        {
          "output_type": "stream",
          "text": [
            "[[0, 0, 0, 0, 0], [0, 0, 0, 0, 0], [0, 0, 0, 0, 0], [0, 0, 0, 0, 0], [0, 0, 0, 0, 0]]\n",
            "[[0, 0, 0, 0, 0], [0, 0, 0, 0, 0], [0, 0, 1, 0, 0], [0, 0, 0, 0, 0], [0, 0, 0, 0, 0]]\n",
            "[[0, 0, 0, 0, 0], [0, 0, 0, 0, 0], [0, 0, 1, 0, 0], [0, 0, 0, 0, 0], [0, 0, 0, 0, 1]]\n"
          ],
          "name": "stdout"
        }
      ]
    },
    {
      "cell_type": "code",
      "metadata": {
        "id": "iAy6uLtVI5W4"
      },
      "source": [
        "#2\n",
        "\n",
        "def print_doublelist(lists):\n",
        "  print(\"이중 리스트를 출력합니다.\")\n",
        "  for i in range(0, 5, 1):\n",
        "    for j in range(0, 5, 1):\n",
        "      print(lists[i][j], end = \" \")\n",
        "    print()\n",
        "  print(\"이중 리스트의 출력이 끝났습니다.\")\n",
        "  print()"
      ],
      "execution_count": 13,
      "outputs": []
    },
    {
      "cell_type": "code",
      "metadata": {
        "id": "AnlRJLPkMRj0",
        "outputId": "699d5a36-caf8-40c3-d3cc-3ed90eba6778",
        "colab": {
          "base_uri": "https://localhost:8080/",
          "height": 161
        }
      },
      "source": [
        "print_doublelist(lists)"
      ],
      "execution_count": 14,
      "outputs": [
        {
          "output_type": "stream",
          "text": [
            "이중 리스트를 출력합니다.\n",
            "0 0 0 0 0 \n",
            "0 0 0 0 0 \n",
            "0 0 0 0 0 \n",
            "0 0 0 0 0 \n",
            "0 0 0 0 0 \n",
            "이중 리스트의 출력이 끝났습니다.\n",
            "\n"
          ],
          "name": "stdout"
        }
      ]
    },
    {
      "cell_type": "code",
      "metadata": {
        "id": "jM00VHZ7N9Jz",
        "outputId": "18a80f5b-87b7-4cf8-d862-a4710a2433d8",
        "colab": {
          "base_uri": "https://localhost:8080/",
          "height": 593
        }
      },
      "source": [
        "lists = []\n",
        "for i in range(0, 5, 1):\n",
        "  a = []\n",
        "  for j in range(0, 5, 1):\n",
        "    a.append(0)\n",
        "  lists.append(a)\n",
        "\n",
        "print_doublelist(lists)\n",
        "\n",
        "lists[2][2] = 1\n",
        "print_doublelist(lists)\n",
        "\n",
        "lists[4][4] = 0\n",
        "print_doublelist(lists)\n",
        "\n",
        "lists[2][2] = 0\n",
        "lists[4][4] = 0\n",
        "print_doublelist(lists)"
      ],
      "execution_count": 15,
      "outputs": [
        {
          "output_type": "stream",
          "text": [
            "이중 리스트를 출력합니다.\n",
            "0 0 0 0 0 \n",
            "0 0 0 0 0 \n",
            "0 0 0 0 0 \n",
            "0 0 0 0 0 \n",
            "0 0 0 0 0 \n",
            "이중 리스트의 출력이 끝났습니다.\n",
            "\n",
            "이중 리스트를 출력합니다.\n",
            "0 0 0 0 0 \n",
            "0 0 0 0 0 \n",
            "0 0 1 0 0 \n",
            "0 0 0 0 0 \n",
            "0 0 0 0 0 \n",
            "이중 리스트의 출력이 끝났습니다.\n",
            "\n",
            "이중 리스트를 출력합니다.\n",
            "0 0 0 0 0 \n",
            "0 0 0 0 0 \n",
            "0 0 1 0 0 \n",
            "0 0 0 0 0 \n",
            "0 0 0 0 0 \n",
            "이중 리스트의 출력이 끝났습니다.\n",
            "\n",
            "이중 리스트를 출력합니다.\n",
            "0 0 0 0 0 \n",
            "0 0 0 0 0 \n",
            "0 0 0 0 0 \n",
            "0 0 0 0 0 \n",
            "0 0 0 0 0 \n",
            "이중 리스트의 출력이 끝났습니다.\n",
            "\n"
          ],
          "name": "stdout"
        }
      ]
    },
    {
      "cell_type": "code",
      "metadata": {
        "id": "3pzIwiihRveF"
      },
      "source": [
        "#이중 리스트 초기화하는 함수\n",
        "\n",
        "def default_doublelist(lists):\n",
        "  lists = []\n",
        "  for i in range(0, 5, 1):\n",
        "    a = []\n",
        "    for j in range(0, 5, 1):\n",
        "      a.append(0)\n",
        "    lists.append(a)\n",
        "\n",
        "  lists[2][2] = 1\n",
        "\n",
        "  print_doublelist(lists)\n",
        "\n",
        "  return lists"
      ],
      "execution_count": 23,
      "outputs": []
    },
    {
      "cell_type": "code",
      "metadata": {
        "id": "sP18FG2nTSCw",
        "outputId": "7a9e3d1a-8f68-4755-bc3d-b3e4c548bfad",
        "colab": {
          "base_uri": "https://localhost:8080/",
          "height": 308
        }
      },
      "source": [
        "lists = default_doublelist(lists)\n",
        "print_doublelist(lists)"
      ],
      "execution_count": 24,
      "outputs": [
        {
          "output_type": "stream",
          "text": [
            "이중 리스트를 출력합니다.\n",
            "0 0 0 0 0 \n",
            "0 0 0 0 0 \n",
            "0 0 1 0 0 \n",
            "0 0 0 0 0 \n",
            "0 0 0 0 0 \n",
            "이중 리스트의 출력이 끝났습니다.\n",
            "\n",
            "이중 리스트를 출력합니다.\n",
            "0 0 0 0 0 \n",
            "0 0 0 0 0 \n",
            "0 0 1 0 0 \n",
            "0 0 0 0 0 \n",
            "0 0 0 0 0 \n",
            "이중 리스트의 출력이 끝났습니다.\n",
            "\n"
          ],
          "name": "stdout"
        }
      ]
    },
    {
      "cell_type": "code",
      "metadata": {
        "id": "Qju9BXNAPLHu",
        "outputId": "6b1fe6d7-68c6-4ac8-8b17-9c732df63303",
        "colab": {
          "base_uri": "https://localhost:8080/",
          "height": 345
        }
      },
      "source": [
        "y = 2\n",
        "x = 2\n",
        "\n",
        "lists = default_doublelist(lists)\n",
        "\n",
        "dir = input('방향을 입력하세요: ')\n",
        "\n",
        "lists[y][x] = 0\n",
        "\n",
        "if dir == \"왼쪽\":\n",
        "  x = x - 1\n",
        "\n",
        "elif dir == \"오른쪽\":\n",
        "  x = x + 1\n",
        "\n",
        "elif dir == \"위쪽\":\n",
        "  y = y - 1\n",
        "\n",
        "elif dir == \"아래쪽\":\n",
        "  y = y + 1\n",
        "\n",
        "print(y, x)\n",
        "\n",
        "lists[y][x] = 1\n",
        "\n",
        "print_doublelist(lists)"
      ],
      "execution_count": 28,
      "outputs": [
        {
          "output_type": "stream",
          "text": [
            "이중 리스트를 출력합니다.\n",
            "0 0 0 0 0 \n",
            "0 0 0 0 0 \n",
            "0 0 1 0 0 \n",
            "0 0 0 0 0 \n",
            "0 0 0 0 0 \n",
            "이중 리스트의 출력이 끝났습니다.\n",
            "\n",
            "방향을 입력하세요: 아래쪽\n",
            "3 2\n",
            "이중 리스트를 출력합니다.\n",
            "0 0 0 0 0 \n",
            "0 0 0 0 0 \n",
            "0 0 0 0 0 \n",
            "0 0 1 0 0 \n",
            "0 0 0 0 0 \n",
            "이중 리스트의 출력이 끝났습니다.\n",
            "\n"
          ],
          "name": "stdout"
        }
      ]
    },
    {
      "cell_type": "code",
      "metadata": {
        "id": "lngiyRpsbqaK",
        "outputId": "9970a0bb-c2ea-4334-9ef2-b04c6351fc24",
        "colab": {
          "base_uri": "https://localhost:8080/",
          "height": 163
        }
      },
      "source": [
        "lists = default_doublelist(lists)\n",
        "\n",
        "y = 2\n",
        "x = 2"
      ],
      "execution_count": 36,
      "outputs": [
        {
          "output_type": "stream",
          "text": [
            "이중 리스트를 출력합니다.\n",
            "0 0 0 0 0 \n",
            "0 0 0 0 0 \n",
            "0 0 1 0 0 \n",
            "0 0 0 0 0 \n",
            "0 0 0 0 0 \n",
            "이중 리스트의 출력이 끝났습니다.\n",
            "\n"
          ],
          "name": "stdout"
        }
      ]
    },
    {
      "cell_type": "code",
      "metadata": {
        "id": "IHfobQjqROaL",
        "outputId": "f29895ff-6a48-4370-8511-92617cbdaee2",
        "colab": {
          "base_uri": "https://localhost:8080/",
          "height": 763
        }
      },
      "source": [
        "#3 여러 동작 수행하기 - 반복문\n",
        "\n",
        "while True:\n",
        "  dir = input(\"방향을 입력하세요(그만 하시고 싶으시면 \\\"그만\\\"이라고 입력: \")\n",
        "  \n",
        "  lists[y][x] = 0\n",
        "\n",
        "  if dir == \"왼쪽\":\n",
        "    x = x - 1\n",
        "\n",
        "  elif dir == \"오른쪽\":\n",
        "    x = x + 1\n",
        "\n",
        "  elif dir == \"위쪽\":\n",
        "    y = y - 1\n",
        "\n",
        "  elif dir == \"아래쪽\":\n",
        "    y = y + 1\n",
        "\n",
        "  elif dir == \"그만\":\n",
        "    break\n",
        "    \n",
        "  print(y, x)\n",
        "\n",
        "  lists[y][x] = 1\n",
        "\n",
        "  print_doublelist(lists)"
      ],
      "execution_count": 37,
      "outputs": [
        {
          "output_type": "stream",
          "text": [
            "방향을 입력하세요(그만 하시고 싶으시면 \"그만\"이라고 입력: 위쪽\n",
            "1 2\n",
            "이중 리스트를 출력합니다.\n",
            "0 0 0 0 0 \n",
            "0 0 1 0 0 \n",
            "0 0 0 0 0 \n",
            "0 0 0 0 0 \n",
            "0 0 0 0 0 \n",
            "이중 리스트의 출력이 끝났습니다.\n",
            "\n",
            "방향을 입력하세요(그만 하시고 싶으시면 \"그만\"이라고 입력: 아래쪽\n",
            "2 2\n",
            "이중 리스트를 출력합니다.\n",
            "0 0 0 0 0 \n",
            "0 0 0 0 0 \n",
            "0 0 1 0 0 \n",
            "0 0 0 0 0 \n",
            "0 0 0 0 0 \n",
            "이중 리스트의 출력이 끝났습니다.\n",
            "\n",
            "방향을 입력하세요(그만 하시고 싶으시면 \"그만\"이라고 입력: 오른쪽\n",
            "2 3\n",
            "이중 리스트를 출력합니다.\n",
            "0 0 0 0 0 \n",
            "0 0 0 0 0 \n",
            "0 0 0 1 0 \n",
            "0 0 0 0 0 \n",
            "0 0 0 0 0 \n",
            "이중 리스트의 출력이 끝났습니다.\n",
            "\n",
            "방향을 입력하세요(그만 하시고 싶으시면 \"그만\"이라고 입력: 왼쪽\n",
            "2 2\n",
            "이중 리스트를 출력합니다.\n",
            "0 0 0 0 0 \n",
            "0 0 0 0 0 \n",
            "0 0 1 0 0 \n",
            "0 0 0 0 0 \n",
            "0 0 0 0 0 \n",
            "이중 리스트의 출력이 끝났습니다.\n",
            "\n",
            "방향을 입력하세요(그만 하시고 싶으시면 \"그만\"이라고 입력: 그만\n"
          ],
          "name": "stdout"
        }
      ]
    },
    {
      "cell_type": "code",
      "metadata": {
        "id": "c8Pi1UvufH1m"
      },
      "source": [
        "#테두리에 닿았다면 함수 정의\n",
        "\n",
        "def check(dir, y, x):\n",
        "  if x < 0 or x >= 5 or y < 0 or y >= 5:\n",
        "    #다시 고쳐주고\n",
        "    if dir == '왼쪽':\n",
        "      x = 0\n",
        "    elif dir == '오른쪽':\n",
        "      x = 4\n",
        "    elif dir == '위쪽':\n",
        "      y = 0\n",
        "    elif dir == '아래쪽':\n",
        "      y = 4\n",
        "    #사용자에게 알려준다\n",
        "    print(\"더 이상\", dir,\"으로 갈 수 없습니다.\")\n",
        "\n",
        "  return y, x"
      ],
      "execution_count": 40,
      "outputs": []
    },
    {
      "cell_type": "code",
      "metadata": {
        "id": "bX0QpGVVaqAT",
        "outputId": "7fe0d5aa-1258-4db6-bd0f-2d6d75d3e6ef",
        "colab": {
          "base_uri": "https://localhost:8080/",
          "height": 799
        }
      },
      "source": [
        "#테두리에 닿았다면\n",
        "\n",
        "while True:\n",
        "  dir = input(\"방향을 입력하세요(그만 하시고 싶으시면 \\\"그만\\\"이라고 입력: \")\n",
        "  \n",
        "  lists[y][x] = 0\n",
        "\n",
        "  if dir == \"왼쪽\":\n",
        "    x = x - 1\n",
        "    #테두리에 닿았다면\n",
        "    y, x = check(dir, y, x)\n",
        "    #if x < 0:\n",
        "      #x = 0\n",
        "      #print('더 이상 왼쪽으로 갈 수 없습니다.')\n",
        "\n",
        "  elif dir == \"오른쪽\":\n",
        "    x = x + 1\n",
        "    #테두리에 닿았다면\n",
        "    y, x = check(dir, y, x)\n",
        "    #if x >= 5:\n",
        "      #x = 4\n",
        "      #print(\"더 이상 오른쪽으로 갈 수 없습니다.\")\n",
        "\n",
        "  elif dir == \"위쪽\":\n",
        "    y = y - 1\n",
        "    #테두리에 닿았다면\n",
        "    y, x = check(dir, y, x)\n",
        "    #if y < 0:\n",
        "      #y = 0\n",
        "      #print('더 이상 위쪽으로 갈 수 없습니다.')\n",
        "\n",
        "  elif dir == \"아래쪽\":\n",
        "    y = y + 1\n",
        "    #테두리에 닿았다면\n",
        "    y, x = check(dir, y, x)\n",
        "    #if y >= 5:\n",
        "      #y = 4\n",
        "      #print('더 이상 아래쪽으로 갈 수 없습니다.')\n",
        "\n",
        "  elif dir == \"그만\":\n",
        "    break\n",
        "    \n",
        "  print(y, x)\n",
        "\n",
        "  lists[y][x] = 1\n",
        "\n",
        "  print_doublelist(lists)"
      ],
      "execution_count": 38,
      "outputs": [
        {
          "output_type": "stream",
          "text": [
            "방향을 입력하세요(그만 하시고 싶으시면 \"그만\"이라고 입력: 오른쪽\n",
            "2 3\n",
            "이중 리스트를 출력합니다.\n",
            "0 0 0 0 0 \n",
            "0 0 0 0 0 \n",
            "0 0 0 1 0 \n",
            "0 0 0 0 0 \n",
            "0 0 0 0 0 \n",
            "이중 리스트의 출력이 끝났습니다.\n",
            "\n",
            "방향을 입력하세요(그만 하시고 싶으시면 \"그만\"이라고 입력: 오른쪽\n",
            "2 4\n",
            "이중 리스트를 출력합니다.\n",
            "0 0 0 0 0 \n",
            "0 0 0 0 0 \n",
            "0 0 0 0 1 \n",
            "0 0 0 0 0 \n",
            "0 0 0 0 0 \n",
            "이중 리스트의 출력이 끝났습니다.\n",
            "\n",
            "방향을 입력하세요(그만 하시고 싶으시면 \"그만\"이라고 입력: 오른쪽\n",
            "더 이상 오른쪽으로 갈 수 없습니다.\n",
            "2 4\n",
            "이중 리스트를 출력합니다.\n",
            "0 0 0 0 0 \n",
            "0 0 0 0 0 \n",
            "0 0 0 0 1 \n",
            "0 0 0 0 0 \n",
            "0 0 0 0 0 \n",
            "이중 리스트의 출력이 끝났습니다.\n",
            "\n",
            "방향을 입력하세요(그만 하시고 싶으시면 \"그만\"이라고 입력: 오른쪽\n",
            "더 이상 오른쪽으로 갈 수 없습니다.\n",
            "2 4\n",
            "이중 리스트를 출력합니다.\n",
            "0 0 0 0 0 \n",
            "0 0 0 0 0 \n",
            "0 0 0 0 1 \n",
            "0 0 0 0 0 \n",
            "0 0 0 0 0 \n",
            "이중 리스트의 출력이 끝났습니다.\n",
            "\n",
            "방향을 입력하세요(그만 하시고 싶으시면 \"그만\"이라고 입력: 그만\n"
          ],
          "name": "stdout"
        }
      ]
    },
    {
      "cell_type": "code",
      "metadata": {
        "id": "I9q16Xa_egL7"
      },
      "source": [
        ""
      ],
      "execution_count": null,
      "outputs": []
    }
  ]
}